{
 "cells": [
  {
   "cell_type": "code",
   "execution_count": 1,
   "metadata": {},
   "outputs": [],
   "source": [
    "import numpy as np\n",
    "import pandas as pd\n",
    "from sklearn.model_selection import train_test_split\n",
    "from sklearn.tree import DecisionTreeClassifier\n",
    "from sklearn.metrics import accuracy_score\n",
    "from sklearn import tree"
   ]
  },
  {
   "cell_type": "code",
   "execution_count": 70,
   "metadata": {
    "scrolled": true
   },
   "outputs": [
    {
     "data": {
      "text/plain": [
       "DecisionTreeClassifier(class_weight=None, criterion='entropy', max_depth=3,\n",
       "                       max_features=None, max_leaf_nodes=None,\n",
       "                       min_impurity_decrease=0.0, min_impurity_split=None,\n",
       "                       min_samples_leaf=5, min_samples_split=2,\n",
       "                       min_weight_fraction_leaf=0.0, presort=False,\n",
       "                       random_state=100, splitter='best')"
      ]
     },
     "execution_count": 70,
     "metadata": {},
     "output_type": "execute_result"
    }
   ],
   "source": [
    "#Read in all the data, separated by commas\n",
    "bowling_data = pd.read_csv('FinalData.data', sep= ',', header= None)\n",
    "\n",
    "#X is all the angle values including the ball slope and velocity\n",
    "#Y is the target value, X or O signifies strike or not strike respectively\n",
    "X = bowling_data.values[:, 0:9]\n",
    "Y = bowling_data.values[:,9]\n",
    "\n",
    "#Split the dataset and train them\n",
    "X_train, X_test, y_train, y_test = train_test_split( X, Y, test_size = 0.3, random_state = 100)\n",
    "\n",
    "clf_gini = DecisionTreeClassifier(criterion = \"gini\", random_state = 100, max_depth=5, min_samples_leaf=5)\n",
    "clf_gini.fit(X_train, y_train)\n",
    "\n",
    "clf_entropy = DecisionTreeClassifier(criterion = \"entropy\", random_state = 100, max_depth=3, min_samples_leaf=5)\n",
    "clf_entropy.fit(X_train, y_train)\n",
    "\n",
    "\n",
    "\n",
    "\n",
    "\n",
    "\n"
   ]
  },
  {
   "cell_type": "code",
   "execution_count": 85,
   "metadata": {},
   "outputs": [
    {
     "data": {
      "text/plain": [
       "array(['X'], dtype=object)"
      ]
     },
     "execution_count": 85,
     "metadata": {},
     "output_type": "execute_result"
    }
   ],
   "source": [
    "#clf_gini.predict([[20.58,162.86,132.32,145.21,154.23,163.29,124.96,45.81,1.2]])\n",
    "clf_gini.predict([[131.92,158.49,171.26,154.12,176.32,164.32,151.67,66.31,4.25]])"
   ]
  },
  {
   "cell_type": "code",
   "execution_count": 72,
   "metadata": {},
   "outputs": [
    {
     "name": "stdout",
     "output_type": "stream",
     "text": [
      "Accuracy is  64.70588235294117\n"
     ]
    }
   ],
   "source": [
    "print(\"Accuracy is \", accuracy_score(y_test,y_pred)*100)"
   ]
  },
  {
   "cell_type": "code",
   "execution_count": 137,
   "metadata": {},
   "outputs": [
    {
     "data": {
      "text/plain": [
       "KNeighborsClassifier(algorithm='auto', leaf_size=30, metric='minkowski',\n",
       "                     metric_params=None, n_jobs=None, n_neighbors=6, p=2,\n",
       "                     weights='uniform')"
      ]
     },
     "execution_count": 137,
     "metadata": {},
     "output_type": "execute_result"
    }
   ],
   "source": [
    "######################################################################\n",
    "# KNN CLASSIFIER\n",
    "# With current data, accuracy stops getting better after neighbors = 6\n",
    "######################################################################\n",
    "from sklearn.neighbors import KNeighborsClassifier\n",
    "from sklearn import metrics\n",
    "\n",
    "knn = KNeighborsClassifier(n_neighbors=6)\n",
    "knn.fit(X_train, y_train)"
   ]
  },
  {
   "cell_type": "code",
   "execution_count": 115,
   "metadata": {},
   "outputs": [
    {
     "name": "stdout",
     "output_type": "stream",
     "text": [
      "O\n"
     ]
    }
   ],
   "source": [
    "x_new = [[123.21,137.51,102.84,143.21,168.12,118.22,44.97,25.12,1.2145930441018318]]\n",
    "y_predict = knn.predict(x_new)\n",
    "print(y_predict[0])"
   ]
  },
  {
   "cell_type": "code",
   "execution_count": 184,
   "metadata": {},
   "outputs": [
    {
     "name": "stdout",
     "output_type": "stream",
     "text": [
      "{1: 0.47058823529411764, 2: 0.5882352941176471, 3: 0.5294117647058824, 4: 0.5882352941176471, 5: 0.5294117647058824, 6: 0.6470588235294118, 7: 0.5882352941176471, 8: 0.6470588235294118, 9: 0.5882352941176471, 10: 0.6470588235294118, 11: 0.6470588235294118, 12: 0.6470588235294118, 13: 0.6470588235294118, 14: 0.6470588235294118, 15: 0.6470588235294118, 16: 0.6470588235294118, 17: 0.6470588235294118, 18: 0.6470588235294118, 19: 0.6470588235294118, 20: 0.6470588235294118, 21: 0.6470588235294118, 22: 0.6470588235294118, 23: 0.6470588235294118, 24: 0.6470588235294118, 25: 0.6470588235294118, 26: 0.6470588235294118, 27: 0.6470588235294118, 28: 0.6470588235294118, 29: 0.6470588235294118}\n"
     ]
    },
    {
     "data": {
      "image/png": "[encoded data removed]",
      "text/plain": [
       "<Figure size 432x288 with 1 Axes>"
      ]
     },
     "metadata": {
      "needs_background": "light"
     },
     "output_type": "display_data"
    }
   ],
   "source": [
    "#Calculating the accuracies for knn\n",
    "k_range=range(1,30)\n",
    "scores = {}\n",
    "scores_list= []\n",
    "for k in k_range:\n",
    "    knn = KNeighborsClassifier(n_neighbors = k)\n",
    "    knn.fit(X_train, y_train)\n",
    "    y_pred = knn.predict(X_test)\n",
    "    scores[k] = metrics.accuracy_score(y_test,y_pred)\n",
    "    scores_list.append(metrics.accuracy_score(y_test,y_pred))\n",
    "print(scores)\n",
    "\n",
    "import matplotlib.pyplot as plt\n",
    "plt.scatter(X[:, 0], X[:, 8])\n",
    "plt.title(\"Recorded Values from User\")\n",
    "plt.xlabel(\"Angle Values (degrees)\")\n",
    "plt.show()"
   ]
  },
  {
   "cell_type": "code",
   "execution_count": 166,
   "metadata": {},
   "outputs": [
    {
     "name": "stdout",
     "output_type": "stream",
     "text": [
      "Strikes predicted:  4027\n",
      "In order to get a strike, you must: \n",
      "Increase Right Leg Angle by:  12.080000000000013\n",
      "Increase Left Leg Angle by:  38.50999999999999\n",
      "Decrease Right Arm Angle by:  33\n",
      "Left arm: Correct Angle\n",
      "Back: Correct Angle\n",
      "Ball Velocity: Correct\n",
      "Rear foot: Correct Angle\n",
      "Feet distance apart: Correct\n",
      "Ball slope: Correct\n"
     ]
    }
   ],
   "source": [
    "import xlsxwriter \n",
    "  \n",
    "workbook = xlsxwriter.Workbook('FinalData.xlsx') \n",
    "worksheet = workbook.add_worksheet() \n",
    "   \n",
    "row = 0\n",
    "column = 0\n",
    "count = 0\n",
    "i = 0\n",
    "#Iterating through each possible combination to find out more strikes\n",
    "for a in range(int(np.amin(bowling_data[2])), int(np.amax(bowling_data[2]))):\n",
    "    for b in range(int(np.amin(bowling_data[5])), int(np.amax(bowling_data[5]))):\n",
    "        #for c in range(int(np.amin(bowling_data[2])), int(np.amax(bowling_data[2]))):\n",
    "        x_new=[[131.92,158.49,a,154.12,176.32,b,151.67,66.31,4.25]]\n",
    "        y_predict = knn.predict(x_new)\n",
    "        \n",
    "        worksheet.write(row, column, str(x_new[0][0]))\n",
    "        column += 1\n",
    "        worksheet.write(row, column, str(x_new[0][1]))\n",
    "        column += 1\n",
    "        worksheet.write(row, column, str(x_new[0][2]))\n",
    "        column += 1\n",
    "        worksheet.write(row, column, str(x_new[0][3]))\n",
    "        column += 1\n",
    "        worksheet.write(row, column, str(x_new[0][4]))\n",
    "        column += 1\n",
    "        worksheet.write(row, column, str(x_new[0][5]))\n",
    "        column += 1\n",
    "        worksheet.write(row, column, str(x_new[0][6]))\n",
    "        column += 1\n",
    "        worksheet.write(row, column, str(x_new[0][7]))\n",
    "        column += 1\n",
    "        worksheet.write(row, column, str(x_new[0][8]))\n",
    "        column += 1\n",
    "        worksheet.write(row, column, str(y_predict[0]))\n",
    "        column += 1\n",
    "        row += 1\n",
    "        column = 0\n",
    "           \n",
    "        #If there is a strike predicted, save these values in order to show the user    \n",
    "        if (y_predict == 'X'):\n",
    "            count+= 1\n",
    "            a_best = a\n",
    "            b_best = b\n",
    "            c_best = x_new[0][2]\n",
    "            d_best = x_new[0][3]\n",
    "            e_best = x_new[0][4]\n",
    "            f_best = x_new[0][5]\n",
    "            g_best = x_new[0][6]\n",
    "            h_best = x_new[0][7]\n",
    "            i_best = x_new[0][8]\n",
    "           \n",
    "            \n",
    "            \n",
    "            \n",
    "            \n",
    "#Save the workbook\n",
    "workbook.close()\n",
    "print (\"Strikes predicted: \", count)\n",
    "print(\"In order to get a strike, you must: \")\n",
    "#Right leg angle\n",
    "if(x_new[0][0] > a_best):\n",
    "    correct_angle = x_new[0][0] - a_best\n",
    "    print(\"Decrease Right Leg Angle by: \", correct_angle)\n",
    "if(x_new[0][0] < a_best):\n",
    "    correct_angle = a_best - x_new[0][0]\n",
    "    print(\"Increase Right Leg Angle by: \", correct_angle)\n",
    "if(x_new[0][0] == a_best):\n",
    "    correct_angle = a_best - x_new[0][0]\n",
    "    print(\"Right Leg: Correct Angle\")\n",
    "    \n",
    "#Left Leg angle    \n",
    "if(x_new[0][1] > b_best):\n",
    "    correct_angle = x_new[0][1] - b_best\n",
    "    print(\"Decrease Left Leg Angle by: \", correct_angle)\n",
    "if(x_new[0][1] < b_best):\n",
    "    correct_angle = b_best - x_new[0][1]\n",
    "    print(\"Increase Left Leg Angle by: \", correct_angle)\n",
    "if(x_new[0][1] == b_best):\n",
    "    correct_angle = b_best - x_new[0][1]\n",
    "    print(\"Left leg: Correct Angle\")\n",
    "    \n",
    "#Right arm angle    \n",
    "if(x_new[0][2] > c_best):\n",
    "    correct_angle = x_new[0][2] - c_best\n",
    "    print(\"Decrease Right Arm Angle by: \", correct_angle)\n",
    "if(x_new[0][2] < c_best):\n",
    "    correct_angle = c_best - x_new[0][2]\n",
    "    print(\"Increase Right Arm Angle by: \", correct_angle)\n",
    "if(x_new[0][2] == c_best):\n",
    "    correct_angle = c_best - x_new[0][2]\n",
    "    print(\"Right arm: Correct Angle\")\n",
    "\n",
    "#Left arm angle\n",
    "if(x_new[0][3] > d_best):\n",
    "    correct_angle = x_new[0][3] - d_best\n",
    "    print(\"Decrease Left Arm Angle by: \", correct_angle)\n",
    "if(x_new[0][3] < d_best):\n",
    "    correct_angle = d_best - x_new[0][3]\n",
    "    print(\"Increase Left Arm Angle by: \", correct_angle)\n",
    "if(x_new[0][3] == d_best):\n",
    "    correct_angle = d_best - x_new[0][3]\n",
    "    print(\"Left arm: Correct Angle\")\n",
    "\n",
    "#Back angle\n",
    "if(x_new[0][4] > e_best):\n",
    "    correct_angle = x_new[0][4] - e_best\n",
    "    print(\"Decrease Back Angle by: \", correct_angle)\n",
    "if(x_new[0][4] < e_best):\n",
    "    correct_angle = e_best - x_new[0][4]\n",
    "    print(\"Increase Back Angle by: \", correct_angle)\n",
    "if(x_new[0][4] == e_best):\n",
    "    correct_angle = e_best - x_new[0][4]\n",
    "    print(\"Back: Correct Angle\")\n",
    "\n",
    "#Ball velocity\n",
    "if(x_new[0][5] > f_best):\n",
    "    correct_angle = x_new[0][5] - f_best\n",
    "    print(\"Decrease Ball Velocity by: \", correct_angle)\n",
    "if(x_new[0][5] < f_best):\n",
    "    correct_angle = f_best - x_new[0][5]\n",
    "    print(\"Increase Ball Velocity by: \", correct_angle)\n",
    "if(x_new[0][5] == f_best):\n",
    "    correct_angle = f_best - x_new[0][5]\n",
    "    print(\"Ball Velocity: Correct\")\n",
    "\n",
    "#Rear foor angle\n",
    "if(x_new[0][6] > g_best):\n",
    "    correct_angle = x_new[0][6] - g_best\n",
    "    print(\"Decrease Rear Foot Angle by: \", correct_angle)\n",
    "if(x_new[0][6] < g_best):\n",
    "    correct_angle = g_best - x_new[0][6]\n",
    "    print(\"Increase Rear Foot Angle by: \", correct_angle)\n",
    "if(x_new[0][6] == g_best):\n",
    "    correct_angle = g_best - x_new[0][6]\n",
    "    print(\"Rear foot: Correct Angle\")\n",
    "\n",
    "#Feet distance apart\n",
    "if(x_new[0][7] > h_best):\n",
    "    correct_angle = x_new[0][7] - h_best\n",
    "    print(\"Decrease Feet Distance Apart by: \", correct_angle)\n",
    "if(x_new[0][7] < h_best):\n",
    "    correct_angle = h_best - x_new[0][7]\n",
    "    print(\"Increase Feet Distance Apart by: \", correct_angle)\n",
    "if(x_new[0][7] == h_best):\n",
    "    correct_angle = h_best - x_new[0][7]\n",
    "    print(\"Feet distance apart: Correct\")\n",
    "\n",
    "#Ball slope    \n",
    "if(x_new[0][8] > i_best):\n",
    "    correct_angle = x_new[0][8] - i_best\n",
    "    print(\"Decrease Ball Slope by: \", correct_angle)\n",
    "if(x_new[0][8] < i_best):\n",
    "    correct_angle = i_best - x_new[0][8]\n",
    "    print(\"Increase Ball Slope by: \", correct_angle)\n",
    "if(x_new[0][8] == i_best):\n",
    "    correct_angle = i_best - x_new[0][8]\n",
    "    print(\"Ball slope: Correct\")\n",
    "    "
   ]
  }
 ],
 "metadata": {
  "kernelspec": {
   "display_name": "Python 3",
   "language": "python",
   "name": "python3"
  },
  "language_info": {
   "codemirror_mode": {
    "name": "ipython",
    "version": 3
   },
   "file_extension": ".py",
   "mimetype": "text/x-python",
   "name": "python",
   "nbconvert_exporter": "python",
   "pygments_lexer": "ipython3",
   "version": "3.7.1"
  }
 },
 "nbformat": 4,
 "nbformat_minor": 2
}
