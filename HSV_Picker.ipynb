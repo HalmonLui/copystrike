{
 "cells": [
  {
   "cell_type": "code",
   "execution_count": 3,
   "metadata": {},
   "outputs": [],
   "source": [
    "import cv2\n",
    "import numpy as np\n"
   ]
  },
  {
   "cell_type": "code",
   "execution_count": 12,
   "metadata": {},
   "outputs": [
    {
     "name": "stdout",
     "output_type": "stream",
     "text": [
      "[ 16 252 101] [  6 242  61] [ 26 262 141]\n"
     ]
    }
   ],
   "source": [
    "image_hsv = None   # global ;(\n",
    "pixel = (20,60,80) # some stupid default\n",
    "\n",
    "# mouse callback function\n",
    "def pick_color(event,x,y,flags,param):\n",
    "    if event == cv2.EVENT_LBUTTONDOWN:\n",
    "        pixel = image_hsv[y,x]\n",
    "\n",
    "        #you might want to adjust the ranges(+-10, etc):\n",
    "        upper =  np.array([pixel[0] + 10, pixel[1] + 10, pixel[2] + 40])\n",
    "        lower =  np.array([pixel[0] - 10, pixel[1] - 10, pixel[2] - 40])\n",
    "        print(pixel, lower, upper)\n",
    "\n",
    "        image_mask = cv2.inRange(image_hsv,lower,upper)\n",
    "        cv2.imshow(\"mask\",image_mask)\n",
    "\n",
    "def main():\n",
    "    import sys\n",
    "    global image_hsv, pixel # so we can use it in mouse callback\n",
    "\n",
    "    image_src = cv2.imread(\"./lane_stills/Halmon_X_3a_1.PNG\")  # pick.py my.png\n",
    "    if image_src is None:\n",
    "        print (\"the image read is None............\")\n",
    "        return\n",
    "    cv2.imshow(\"bgr\",image_src)\n",
    "\n",
    "    ## NEW ##\n",
    "    cv2.namedWindow('hsv')\n",
    "    cv2.setMouseCallback('hsv', pick_color)\n",
    "\n",
    "    # now click into the hsv img , and look at values:\n",
    "    image_hsv = cv2.cvtColor(image_src,cv2.COLOR_BGR2HSV)\n",
    "    cv2.imshow(\"hsv\",image_hsv)\n",
    "\n",
    "    cv2.waitKey(0)\n",
    "    cv2.destroyAllWindows()\n",
    "    \n",
    "main()\n",
    "\n",
    "#HX1a1 [ 10 255  33] [  0 245  -7] [ 20 265  73]\n",
    "#HX1a2 [ 19 255 113] [  9 245  73] [ 29 265 153]\n",
    "#HX1a3 [ 22 245 159] [ 12 235 119] [ 32 255 199]\n",
    "#HX1a4 [ 20 206 187] [ 10 196 147] [ 30 216 227]\n",
    "#HX1a6 [ 33 226 123] [ 23 216  83] [ 43 236 163]\n",
    "#Average             [ 0 196 -7]   [32 265 227]\n",
    "\n",
    "#HX3a1 [ 16 252 101] [  6 242  61] [ 26 262 141]"
   ]
  }
 ],
 "metadata": {
  "kernelspec": {
   "display_name": "Python 3",
   "language": "python",
   "name": "python3"
  },
  "language_info": {
   "codemirror_mode": {
    "name": "ipython",
    "version": 3
   },
   "file_extension": ".py",
   "mimetype": "text/x-python",
   "name": "python",
   "nbconvert_exporter": "python",
   "pygments_lexer": "ipython3",
   "version": "3.7.0"
  }
 },
 "nbformat": 4,
 "nbformat_minor": 2
}
